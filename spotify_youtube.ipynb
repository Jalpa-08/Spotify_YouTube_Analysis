{
 "cells": [
  {
   "cell_type": "code",
   "execution_count": 1,
   "id": "1c428379",
   "metadata": {},
   "outputs": [],
   "source": [
    "import numpy as np\n",
    "import pandas as pd\n",
    "import matplotlib.pyplot as plt\n",
    "import seaborn as sns\n",
    "%matplotlib inline"
   ]
  },
  {
   "cell_type": "code",
   "execution_count": 2,
   "id": "df64e1be",
   "metadata": {},
   "outputs": [],
   "source": [
    "df = pd.read_csv(\"Spotify_Youtube.csv\")"
   ]
  },
  {
   "cell_type": "code",
   "execution_count": 3,
   "id": "77f0b23e",
   "metadata": {},
   "outputs": [
    {
     "data": {
      "text/html": [
       "<div>\n",
       "<style scoped>\n",
       "    .dataframe tbody tr th:only-of-type {\n",
       "        vertical-align: middle;\n",
       "    }\n",
       "\n",
       "    .dataframe tbody tr th {\n",
       "        vertical-align: top;\n",
       "    }\n",
       "\n",
       "    .dataframe thead th {\n",
       "        text-align: right;\n",
       "    }\n",
       "</style>\n",
       "<table border=\"1\" class=\"dataframe\">\n",
       "  <thead>\n",
       "    <tr style=\"text-align: right;\">\n",
       "      <th></th>\n",
       "      <th>Unnamed: 0</th>\n",
       "      <th>Artist</th>\n",
       "      <th>Url_spotify</th>\n",
       "      <th>Track</th>\n",
       "      <th>Album</th>\n",
       "      <th>Album_type</th>\n",
       "      <th>Uri</th>\n",
       "      <th>Danceability</th>\n",
       "      <th>Energy</th>\n",
       "      <th>Key</th>\n",
       "      <th>...</th>\n",
       "      <th>Url_youtube</th>\n",
       "      <th>Title</th>\n",
       "      <th>Channel</th>\n",
       "      <th>Views</th>\n",
       "      <th>Likes</th>\n",
       "      <th>Comments</th>\n",
       "      <th>Description</th>\n",
       "      <th>Licensed</th>\n",
       "      <th>official_video</th>\n",
       "      <th>Stream</th>\n",
       "    </tr>\n",
       "  </thead>\n",
       "  <tbody>\n",
       "    <tr>\n",
       "      <th>0</th>\n",
       "      <td>0</td>\n",
       "      <td>Gorillaz</td>\n",
       "      <td>https://open.spotify.com/artist/3AA28KZvwAUcZu...</td>\n",
       "      <td>Feel Good Inc.</td>\n",
       "      <td>Demon Days</td>\n",
       "      <td>album</td>\n",
       "      <td>spotify:track:0d28khcov6AiegSCpG5TuT</td>\n",
       "      <td>0.818</td>\n",
       "      <td>0.705</td>\n",
       "      <td>6.0</td>\n",
       "      <td>...</td>\n",
       "      <td>https://www.youtube.com/watch?v=HyHNuVaZJ-k</td>\n",
       "      <td>Gorillaz - Feel Good Inc. (Official Video)</td>\n",
       "      <td>Gorillaz</td>\n",
       "      <td>693555221.0</td>\n",
       "      <td>6220896.0</td>\n",
       "      <td>169907.0</td>\n",
       "      <td>Official HD Video for Gorillaz' fantastic trac...</td>\n",
       "      <td>True</td>\n",
       "      <td>True</td>\n",
       "      <td>1.040235e+09</td>\n",
       "    </tr>\n",
       "    <tr>\n",
       "      <th>1</th>\n",
       "      <td>1</td>\n",
       "      <td>Gorillaz</td>\n",
       "      <td>https://open.spotify.com/artist/3AA28KZvwAUcZu...</td>\n",
       "      <td>Rhinestone Eyes</td>\n",
       "      <td>Plastic Beach</td>\n",
       "      <td>album</td>\n",
       "      <td>spotify:track:1foMv2HQwfQ2vntFf9HFeG</td>\n",
       "      <td>0.676</td>\n",
       "      <td>0.703</td>\n",
       "      <td>8.0</td>\n",
       "      <td>...</td>\n",
       "      <td>https://www.youtube.com/watch?v=yYDmaexVHic</td>\n",
       "      <td>Gorillaz - Rhinestone Eyes [Storyboard Film] (...</td>\n",
       "      <td>Gorillaz</td>\n",
       "      <td>72011645.0</td>\n",
       "      <td>1079128.0</td>\n",
       "      <td>31003.0</td>\n",
       "      <td>The official video for Gorillaz - Rhinestone E...</td>\n",
       "      <td>True</td>\n",
       "      <td>True</td>\n",
       "      <td>3.100837e+08</td>\n",
       "    </tr>\n",
       "    <tr>\n",
       "      <th>2</th>\n",
       "      <td>2</td>\n",
       "      <td>Gorillaz</td>\n",
       "      <td>https://open.spotify.com/artist/3AA28KZvwAUcZu...</td>\n",
       "      <td>New Gold (feat. Tame Impala and Bootie Brown)</td>\n",
       "      <td>New Gold (feat. Tame Impala and Bootie Brown)</td>\n",
       "      <td>single</td>\n",
       "      <td>spotify:track:64dLd6rVqDLtkXFYrEUHIU</td>\n",
       "      <td>0.695</td>\n",
       "      <td>0.923</td>\n",
       "      <td>1.0</td>\n",
       "      <td>...</td>\n",
       "      <td>https://www.youtube.com/watch?v=qJa-VFwPpYA</td>\n",
       "      <td>Gorillaz - New Gold ft. Tame Impala &amp; Bootie B...</td>\n",
       "      <td>Gorillaz</td>\n",
       "      <td>8435055.0</td>\n",
       "      <td>282142.0</td>\n",
       "      <td>7399.0</td>\n",
       "      <td>Gorillaz - New Gold ft. Tame Impala &amp; Bootie B...</td>\n",
       "      <td>True</td>\n",
       "      <td>True</td>\n",
       "      <td>6.306347e+07</td>\n",
       "    </tr>\n",
       "    <tr>\n",
       "      <th>3</th>\n",
       "      <td>3</td>\n",
       "      <td>Gorillaz</td>\n",
       "      <td>https://open.spotify.com/artist/3AA28KZvwAUcZu...</td>\n",
       "      <td>On Melancholy Hill</td>\n",
       "      <td>Plastic Beach</td>\n",
       "      <td>album</td>\n",
       "      <td>spotify:track:0q6LuUqGLUiCPP1cbdwFs3</td>\n",
       "      <td>0.689</td>\n",
       "      <td>0.739</td>\n",
       "      <td>2.0</td>\n",
       "      <td>...</td>\n",
       "      <td>https://www.youtube.com/watch?v=04mfKJWDSzI</td>\n",
       "      <td>Gorillaz - On Melancholy Hill (Official Video)</td>\n",
       "      <td>Gorillaz</td>\n",
       "      <td>211754952.0</td>\n",
       "      <td>1788577.0</td>\n",
       "      <td>55229.0</td>\n",
       "      <td>Follow Gorillaz online:\\nhttp://gorillaz.com \\...</td>\n",
       "      <td>True</td>\n",
       "      <td>True</td>\n",
       "      <td>4.346636e+08</td>\n",
       "    </tr>\n",
       "    <tr>\n",
       "      <th>4</th>\n",
       "      <td>4</td>\n",
       "      <td>Gorillaz</td>\n",
       "      <td>https://open.spotify.com/artist/3AA28KZvwAUcZu...</td>\n",
       "      <td>Clint Eastwood</td>\n",
       "      <td>Gorillaz</td>\n",
       "      <td>album</td>\n",
       "      <td>spotify:track:7yMiX7n9SBvadzox8T5jzT</td>\n",
       "      <td>0.663</td>\n",
       "      <td>0.694</td>\n",
       "      <td>10.0</td>\n",
       "      <td>...</td>\n",
       "      <td>https://www.youtube.com/watch?v=1V_xRb0x9aw</td>\n",
       "      <td>Gorillaz - Clint Eastwood (Official Video)</td>\n",
       "      <td>Gorillaz</td>\n",
       "      <td>618480958.0</td>\n",
       "      <td>6197318.0</td>\n",
       "      <td>155930.0</td>\n",
       "      <td>The official music video for Gorillaz - Clint ...</td>\n",
       "      <td>True</td>\n",
       "      <td>True</td>\n",
       "      <td>6.172597e+08</td>\n",
       "    </tr>\n",
       "  </tbody>\n",
       "</table>\n",
       "<p>5 rows × 28 columns</p>\n",
       "</div>"
      ],
      "text/plain": [
       "   Unnamed: 0    Artist                                        Url_spotify  \\\n",
       "0           0  Gorillaz  https://open.spotify.com/artist/3AA28KZvwAUcZu...   \n",
       "1           1  Gorillaz  https://open.spotify.com/artist/3AA28KZvwAUcZu...   \n",
       "2           2  Gorillaz  https://open.spotify.com/artist/3AA28KZvwAUcZu...   \n",
       "3           3  Gorillaz  https://open.spotify.com/artist/3AA28KZvwAUcZu...   \n",
       "4           4  Gorillaz  https://open.spotify.com/artist/3AA28KZvwAUcZu...   \n",
       "\n",
       "                                           Track  \\\n",
       "0                                 Feel Good Inc.   \n",
       "1                                Rhinestone Eyes   \n",
       "2  New Gold (feat. Tame Impala and Bootie Brown)   \n",
       "3                             On Melancholy Hill   \n",
       "4                                 Clint Eastwood   \n",
       "\n",
       "                                           Album Album_type  \\\n",
       "0                                     Demon Days      album   \n",
       "1                                  Plastic Beach      album   \n",
       "2  New Gold (feat. Tame Impala and Bootie Brown)     single   \n",
       "3                                  Plastic Beach      album   \n",
       "4                                       Gorillaz      album   \n",
       "\n",
       "                                    Uri  Danceability  Energy   Key  ...  \\\n",
       "0  spotify:track:0d28khcov6AiegSCpG5TuT         0.818   0.705   6.0  ...   \n",
       "1  spotify:track:1foMv2HQwfQ2vntFf9HFeG         0.676   0.703   8.0  ...   \n",
       "2  spotify:track:64dLd6rVqDLtkXFYrEUHIU         0.695   0.923   1.0  ...   \n",
       "3  spotify:track:0q6LuUqGLUiCPP1cbdwFs3         0.689   0.739   2.0  ...   \n",
       "4  spotify:track:7yMiX7n9SBvadzox8T5jzT         0.663   0.694  10.0  ...   \n",
       "\n",
       "                                   Url_youtube  \\\n",
       "0  https://www.youtube.com/watch?v=HyHNuVaZJ-k   \n",
       "1  https://www.youtube.com/watch?v=yYDmaexVHic   \n",
       "2  https://www.youtube.com/watch?v=qJa-VFwPpYA   \n",
       "3  https://www.youtube.com/watch?v=04mfKJWDSzI   \n",
       "4  https://www.youtube.com/watch?v=1V_xRb0x9aw   \n",
       "\n",
       "                                               Title   Channel        Views  \\\n",
       "0         Gorillaz - Feel Good Inc. (Official Video)  Gorillaz  693555221.0   \n",
       "1  Gorillaz - Rhinestone Eyes [Storyboard Film] (...  Gorillaz   72011645.0   \n",
       "2  Gorillaz - New Gold ft. Tame Impala & Bootie B...  Gorillaz    8435055.0   \n",
       "3     Gorillaz - On Melancholy Hill (Official Video)  Gorillaz  211754952.0   \n",
       "4         Gorillaz - Clint Eastwood (Official Video)  Gorillaz  618480958.0   \n",
       "\n",
       "       Likes  Comments                                        Description  \\\n",
       "0  6220896.0  169907.0  Official HD Video for Gorillaz' fantastic trac...   \n",
       "1  1079128.0   31003.0  The official video for Gorillaz - Rhinestone E...   \n",
       "2   282142.0    7399.0  Gorillaz - New Gold ft. Tame Impala & Bootie B...   \n",
       "3  1788577.0   55229.0  Follow Gorillaz online:\\nhttp://gorillaz.com \\...   \n",
       "4  6197318.0  155930.0  The official music video for Gorillaz - Clint ...   \n",
       "\n",
       "   Licensed official_video        Stream  \n",
       "0      True           True  1.040235e+09  \n",
       "1      True           True  3.100837e+08  \n",
       "2      True           True  6.306347e+07  \n",
       "3      True           True  4.346636e+08  \n",
       "4      True           True  6.172597e+08  \n",
       "\n",
       "[5 rows x 28 columns]"
      ]
     },
     "execution_count": 3,
     "metadata": {},
     "output_type": "execute_result"
    }
   ],
   "source": [
    "df.head()"
   ]
  },
  {
   "cell_type": "code",
   "execution_count": 4,
   "id": "06aaf7e9",
   "metadata": {},
   "outputs": [
    {
     "data": {
      "text/plain": [
       "Unnamed: 0            int64\n",
       "Artist               object\n",
       "Url_spotify          object\n",
       "Track                object\n",
       "Album                object\n",
       "Album_type           object\n",
       "Uri                  object\n",
       "Danceability        float64\n",
       "Energy              float64\n",
       "Key                 float64\n",
       "Loudness            float64\n",
       "Speechiness         float64\n",
       "Acousticness        float64\n",
       "Instrumentalness    float64\n",
       "Liveness            float64\n",
       "Valence             float64\n",
       "Tempo               float64\n",
       "Duration_ms         float64\n",
       "Url_youtube          object\n",
       "Title                object\n",
       "Channel              object\n",
       "Views               float64\n",
       "Likes               float64\n",
       "Comments            float64\n",
       "Description          object\n",
       "Licensed             object\n",
       "official_video       object\n",
       "Stream              float64\n",
       "dtype: object"
      ]
     },
     "execution_count": 4,
     "metadata": {},
     "output_type": "execute_result"
    }
   ],
   "source": [
    "df.dtypes"
   ]
  },
  {
   "cell_type": "code",
   "execution_count": 5,
   "id": "6b8b8977",
   "metadata": {},
   "outputs": [
    {
     "data": {
      "text/plain": [
       "580104"
      ]
     },
     "execution_count": 5,
     "metadata": {},
     "output_type": "execute_result"
    }
   ],
   "source": [
    "df.size"
   ]
  },
  {
   "cell_type": "code",
   "execution_count": 6,
   "id": "1ad95c62",
   "metadata": {},
   "outputs": [
    {
     "data": {
      "text/plain": [
       "(20718, 28)"
      ]
     },
     "execution_count": 6,
     "metadata": {},
     "output_type": "execute_result"
    }
   ],
   "source": [
    "df.shape"
   ]
  },
  {
   "cell_type": "code",
   "execution_count": 7,
   "id": "de78c176",
   "metadata": {},
   "outputs": [
    {
     "data": {
      "text/plain": [
       "Unnamed: 0            0\n",
       "Artist                0\n",
       "Url_spotify           0\n",
       "Track                 0\n",
       "Album                 0\n",
       "Album_type            0\n",
       "Uri                   0\n",
       "Danceability          2\n",
       "Energy                2\n",
       "Key                   2\n",
       "Loudness              2\n",
       "Speechiness           2\n",
       "Acousticness          2\n",
       "Instrumentalness      2\n",
       "Liveness              2\n",
       "Valence               2\n",
       "Tempo                 2\n",
       "Duration_ms           2\n",
       "Url_youtube         470\n",
       "Title               470\n",
       "Channel             470\n",
       "Views               470\n",
       "Likes               541\n",
       "Comments            569\n",
       "Description         876\n",
       "Licensed            470\n",
       "official_video      470\n",
       "Stream              576\n",
       "dtype: int64"
      ]
     },
     "execution_count": 7,
     "metadata": {},
     "output_type": "execute_result"
    }
   ],
   "source": [
    "df.isnull().sum()"
   ]
  },
  {
   "cell_type": "code",
   "execution_count": 8,
   "id": "17386d72",
   "metadata": {},
   "outputs": [
    {
     "data": {
      "text/plain": [
       "Index(['Unnamed: 0', 'Artist', 'Url_spotify', 'Track', 'Album', 'Album_type',\n",
       "       'Uri', 'Danceability', 'Energy', 'Key', 'Loudness', 'Speechiness',\n",
       "       'Acousticness', 'Instrumentalness', 'Liveness', 'Valence', 'Tempo',\n",
       "       'Duration_ms', 'Url_youtube', 'Title', 'Channel', 'Views', 'Likes',\n",
       "       'Comments', 'Description', 'Licensed', 'official_video', 'Stream'],\n",
       "      dtype='object')"
      ]
     },
     "execution_count": 8,
     "metadata": {},
     "output_type": "execute_result"
    }
   ],
   "source": [
    "#viewing the columns\n",
    "df.columns\n"
   ]
  },
  {
   "cell_type": "code",
   "execution_count": 9,
   "id": "09aebc29",
   "metadata": {},
   "outputs": [],
   "source": [
    "extra_cols=['Unnamed: 0','Title','Url_spotify','Uri','Url_youtube']\n",
    "df.drop(extra_cols,axis=1,inplace=True)"
   ]
  },
  {
   "cell_type": "code",
   "execution_count": 10,
   "id": "4ff57451",
   "metadata": {},
   "outputs": [
    {
     "data": {
      "text/plain": [
       "(20718, 23)"
      ]
     },
     "execution_count": 10,
     "metadata": {},
     "output_type": "execute_result"
    }
   ],
   "source": [
    "df.shape"
   ]
  },
  {
   "cell_type": "code",
   "execution_count": 11,
   "id": "09f18acb",
   "metadata": {},
   "outputs": [
    {
     "data": {
      "text/plain": [
       "Artist               2079\n",
       "Track               17841\n",
       "Album               11937\n",
       "Album_type              3\n",
       "Danceability          898\n",
       "Energy               1268\n",
       "Key                    12\n",
       "Loudness             9417\n",
       "Speechiness          1303\n",
       "Acousticness         3138\n",
       "Instrumentalness     4012\n",
       "Liveness             1536\n",
       "Valence              1293\n",
       "Tempo               15024\n",
       "Duration_ms         14690\n",
       "Channel              6714\n",
       "Views               19245\n",
       "Likes               17939\n",
       "Comments            10485\n",
       "Description         17395\n",
       "Licensed                2\n",
       "official_video          2\n",
       "Stream              18461\n",
       "dtype: int64"
      ]
     },
     "execution_count": 11,
     "metadata": {},
     "output_type": "execute_result"
    }
   ],
   "source": [
    "df.nunique() "
   ]
  },
  {
   "cell_type": "code",
   "execution_count": 12,
   "id": "302b0565",
   "metadata": {},
   "outputs": [],
   "source": [
    "df.dropna(inplace=True)"
   ]
  },
  {
   "cell_type": "code",
   "execution_count": 13,
   "id": "95d89821",
   "metadata": {},
   "outputs": [
    {
     "data": {
      "text/plain": [
       "Artist              0\n",
       "Track               0\n",
       "Album               0\n",
       "Album_type          0\n",
       "Danceability        0\n",
       "Energy              0\n",
       "Key                 0\n",
       "Loudness            0\n",
       "Speechiness         0\n",
       "Acousticness        0\n",
       "Instrumentalness    0\n",
       "Liveness            0\n",
       "Valence             0\n",
       "Tempo               0\n",
       "Duration_ms         0\n",
       "Channel             0\n",
       "Views               0\n",
       "Likes               0\n",
       "Comments            0\n",
       "Description         0\n",
       "Licensed            0\n",
       "official_video      0\n",
       "Stream              0\n",
       "dtype: int64"
      ]
     },
     "execution_count": 13,
     "metadata": {},
     "output_type": "execute_result"
    }
   ],
   "source": [
    "df.isnull().sum()"
   ]
  },
  {
   "cell_type": "code",
   "execution_count": 14,
   "id": "b7c28bec",
   "metadata": {},
   "outputs": [],
   "source": [
    "df['Views']=df['Views'].astype('int')\n",
    "df['Likes']=df['Likes'].astype('int')\n",
    "df['Comments']=df['Comments'].astype('int')"
   ]
  },
  {
   "cell_type": "code",
   "execution_count": 15,
   "id": "ecb57764",
   "metadata": {},
   "outputs": [
    {
     "data": {
      "text/html": [
       "<div>\n",
       "<style scoped>\n",
       "    .dataframe tbody tr th:only-of-type {\n",
       "        vertical-align: middle;\n",
       "    }\n",
       "\n",
       "    .dataframe tbody tr th {\n",
       "        vertical-align: top;\n",
       "    }\n",
       "\n",
       "    .dataframe thead th {\n",
       "        text-align: right;\n",
       "    }\n",
       "</style>\n",
       "<table border=\"1\" class=\"dataframe\">\n",
       "  <thead>\n",
       "    <tr style=\"text-align: right;\">\n",
       "      <th></th>\n",
       "      <th>Artist</th>\n",
       "      <th>Track</th>\n",
       "      <th>Album</th>\n",
       "      <th>Album_type</th>\n",
       "      <th>Danceability</th>\n",
       "      <th>Energy</th>\n",
       "      <th>Key</th>\n",
       "      <th>Loudness</th>\n",
       "      <th>Speechiness</th>\n",
       "      <th>Acousticness</th>\n",
       "      <th>...</th>\n",
       "      <th>Tempo</th>\n",
       "      <th>Duration_ms</th>\n",
       "      <th>Channel</th>\n",
       "      <th>Views</th>\n",
       "      <th>Likes</th>\n",
       "      <th>Comments</th>\n",
       "      <th>Description</th>\n",
       "      <th>Licensed</th>\n",
       "      <th>official_video</th>\n",
       "      <th>Stream</th>\n",
       "    </tr>\n",
       "  </thead>\n",
       "  <tbody>\n",
       "    <tr>\n",
       "      <th>0</th>\n",
       "      <td>Gorillaz</td>\n",
       "      <td>Feel Good Inc.</td>\n",
       "      <td>Demon Days</td>\n",
       "      <td>album</td>\n",
       "      <td>0.818</td>\n",
       "      <td>0.705</td>\n",
       "      <td>6.0</td>\n",
       "      <td>-6.679</td>\n",
       "      <td>0.1770</td>\n",
       "      <td>0.008360</td>\n",
       "      <td>...</td>\n",
       "      <td>138.559</td>\n",
       "      <td>222640.0</td>\n",
       "      <td>Gorillaz</td>\n",
       "      <td>693555221</td>\n",
       "      <td>6220896</td>\n",
       "      <td>169907</td>\n",
       "      <td>Official HD Video for Gorillaz' fantastic trac...</td>\n",
       "      <td>True</td>\n",
       "      <td>True</td>\n",
       "      <td>1.040235e+09</td>\n",
       "    </tr>\n",
       "    <tr>\n",
       "      <th>1</th>\n",
       "      <td>Gorillaz</td>\n",
       "      <td>Rhinestone Eyes</td>\n",
       "      <td>Plastic Beach</td>\n",
       "      <td>album</td>\n",
       "      <td>0.676</td>\n",
       "      <td>0.703</td>\n",
       "      <td>8.0</td>\n",
       "      <td>-5.815</td>\n",
       "      <td>0.0302</td>\n",
       "      <td>0.086900</td>\n",
       "      <td>...</td>\n",
       "      <td>92.761</td>\n",
       "      <td>200173.0</td>\n",
       "      <td>Gorillaz</td>\n",
       "      <td>72011645</td>\n",
       "      <td>1079128</td>\n",
       "      <td>31003</td>\n",
       "      <td>The official video for Gorillaz - Rhinestone E...</td>\n",
       "      <td>True</td>\n",
       "      <td>True</td>\n",
       "      <td>3.100837e+08</td>\n",
       "    </tr>\n",
       "    <tr>\n",
       "      <th>2</th>\n",
       "      <td>Gorillaz</td>\n",
       "      <td>New Gold (feat. Tame Impala and Bootie Brown)</td>\n",
       "      <td>New Gold (feat. Tame Impala and Bootie Brown)</td>\n",
       "      <td>single</td>\n",
       "      <td>0.695</td>\n",
       "      <td>0.923</td>\n",
       "      <td>1.0</td>\n",
       "      <td>-3.930</td>\n",
       "      <td>0.0522</td>\n",
       "      <td>0.042500</td>\n",
       "      <td>...</td>\n",
       "      <td>108.014</td>\n",
       "      <td>215150.0</td>\n",
       "      <td>Gorillaz</td>\n",
       "      <td>8435055</td>\n",
       "      <td>282142</td>\n",
       "      <td>7399</td>\n",
       "      <td>Gorillaz - New Gold ft. Tame Impala &amp; Bootie B...</td>\n",
       "      <td>True</td>\n",
       "      <td>True</td>\n",
       "      <td>6.306347e+07</td>\n",
       "    </tr>\n",
       "    <tr>\n",
       "      <th>3</th>\n",
       "      <td>Gorillaz</td>\n",
       "      <td>On Melancholy Hill</td>\n",
       "      <td>Plastic Beach</td>\n",
       "      <td>album</td>\n",
       "      <td>0.689</td>\n",
       "      <td>0.739</td>\n",
       "      <td>2.0</td>\n",
       "      <td>-5.810</td>\n",
       "      <td>0.0260</td>\n",
       "      <td>0.000015</td>\n",
       "      <td>...</td>\n",
       "      <td>120.423</td>\n",
       "      <td>233867.0</td>\n",
       "      <td>Gorillaz</td>\n",
       "      <td>211754952</td>\n",
       "      <td>1788577</td>\n",
       "      <td>55229</td>\n",
       "      <td>Follow Gorillaz online:\\nhttp://gorillaz.com \\...</td>\n",
       "      <td>True</td>\n",
       "      <td>True</td>\n",
       "      <td>4.346636e+08</td>\n",
       "    </tr>\n",
       "    <tr>\n",
       "      <th>4</th>\n",
       "      <td>Gorillaz</td>\n",
       "      <td>Clint Eastwood</td>\n",
       "      <td>Gorillaz</td>\n",
       "      <td>album</td>\n",
       "      <td>0.663</td>\n",
       "      <td>0.694</td>\n",
       "      <td>10.0</td>\n",
       "      <td>-8.627</td>\n",
       "      <td>0.1710</td>\n",
       "      <td>0.025300</td>\n",
       "      <td>...</td>\n",
       "      <td>167.953</td>\n",
       "      <td>340920.0</td>\n",
       "      <td>Gorillaz</td>\n",
       "      <td>618480958</td>\n",
       "      <td>6197318</td>\n",
       "      <td>155930</td>\n",
       "      <td>The official music video for Gorillaz - Clint ...</td>\n",
       "      <td>True</td>\n",
       "      <td>True</td>\n",
       "      <td>6.172597e+08</td>\n",
       "    </tr>\n",
       "  </tbody>\n",
       "</table>\n",
       "<p>5 rows × 23 columns</p>\n",
       "</div>"
      ],
      "text/plain": [
       "     Artist                                          Track  \\\n",
       "0  Gorillaz                                 Feel Good Inc.   \n",
       "1  Gorillaz                                Rhinestone Eyes   \n",
       "2  Gorillaz  New Gold (feat. Tame Impala and Bootie Brown)   \n",
       "3  Gorillaz                             On Melancholy Hill   \n",
       "4  Gorillaz                                 Clint Eastwood   \n",
       "\n",
       "                                           Album Album_type  Danceability  \\\n",
       "0                                     Demon Days      album         0.818   \n",
       "1                                  Plastic Beach      album         0.676   \n",
       "2  New Gold (feat. Tame Impala and Bootie Brown)     single         0.695   \n",
       "3                                  Plastic Beach      album         0.689   \n",
       "4                                       Gorillaz      album         0.663   \n",
       "\n",
       "   Energy   Key  Loudness  Speechiness  Acousticness  ...    Tempo  \\\n",
       "0   0.705   6.0    -6.679       0.1770      0.008360  ...  138.559   \n",
       "1   0.703   8.0    -5.815       0.0302      0.086900  ...   92.761   \n",
       "2   0.923   1.0    -3.930       0.0522      0.042500  ...  108.014   \n",
       "3   0.739   2.0    -5.810       0.0260      0.000015  ...  120.423   \n",
       "4   0.694  10.0    -8.627       0.1710      0.025300  ...  167.953   \n",
       "\n",
       "   Duration_ms   Channel      Views    Likes Comments  \\\n",
       "0     222640.0  Gorillaz  693555221  6220896   169907   \n",
       "1     200173.0  Gorillaz   72011645  1079128    31003   \n",
       "2     215150.0  Gorillaz    8435055   282142     7399   \n",
       "3     233867.0  Gorillaz  211754952  1788577    55229   \n",
       "4     340920.0  Gorillaz  618480958  6197318   155930   \n",
       "\n",
       "                                         Description  Licensed  \\\n",
       "0  Official HD Video for Gorillaz' fantastic trac...      True   \n",
       "1  The official video for Gorillaz - Rhinestone E...      True   \n",
       "2  Gorillaz - New Gold ft. Tame Impala & Bootie B...      True   \n",
       "3  Follow Gorillaz online:\\nhttp://gorillaz.com \\...      True   \n",
       "4  The official music video for Gorillaz - Clint ...      True   \n",
       "\n",
       "   official_video        Stream  \n",
       "0            True  1.040235e+09  \n",
       "1            True  3.100837e+08  \n",
       "2            True  6.306347e+07  \n",
       "3            True  4.346636e+08  \n",
       "4            True  6.172597e+08  \n",
       "\n",
       "[5 rows x 23 columns]"
      ]
     },
     "execution_count": 15,
     "metadata": {},
     "output_type": "execute_result"
    }
   ],
   "source": [
    "df.head()"
   ]
  },
  {
   "cell_type": "code",
   "execution_count": 16,
   "id": "a007899b",
   "metadata": {},
   "outputs": [
    {
     "data": {
      "text/html": [
       "<div>\n",
       "<style scoped>\n",
       "    .dataframe tbody tr th:only-of-type {\n",
       "        vertical-align: middle;\n",
       "    }\n",
       "\n",
       "    .dataframe tbody tr th {\n",
       "        vertical-align: top;\n",
       "    }\n",
       "\n",
       "    .dataframe thead th {\n",
       "        text-align: right;\n",
       "    }\n",
       "</style>\n",
       "<table border=\"1\" class=\"dataframe\">\n",
       "  <thead>\n",
       "    <tr style=\"text-align: right;\">\n",
       "      <th></th>\n",
       "      <th>Artist</th>\n",
       "      <th>Views</th>\n",
       "    </tr>\n",
       "  </thead>\n",
       "  <tbody>\n",
       "    <tr>\n",
       "      <th>263</th>\n",
       "      <td>Bruno Mars</td>\n",
       "      <td>10231841530</td>\n",
       "    </tr>\n",
       "    <tr>\n",
       "      <th>1163</th>\n",
       "      <td>Macklemore &amp; Ryan Lewis</td>\n",
       "      <td>10122055560</td>\n",
       "    </tr>\n",
       "    <tr>\n",
       "      <th>375</th>\n",
       "      <td>Coldplay</td>\n",
       "      <td>9997277884</td>\n",
       "    </tr>\n",
       "    <tr>\n",
       "      <th>149</th>\n",
       "      <td>BLACKPINK</td>\n",
       "      <td>9392961989</td>\n",
       "    </tr>\n",
       "    <tr>\n",
       "      <th>780</th>\n",
       "      <td>J Balvin</td>\n",
       "      <td>8464877693</td>\n",
       "    </tr>\n",
       "    <tr>\n",
       "      <th>1347</th>\n",
       "      <td>Nicki Minaj</td>\n",
       "      <td>8017064073</td>\n",
       "    </tr>\n",
       "    <tr>\n",
       "      <th>512</th>\n",
       "      <td>Earth, Wind &amp; Fire</td>\n",
       "      <td>6414076580</td>\n",
       "    </tr>\n",
       "    <tr>\n",
       "      <th>1470</th>\n",
       "      <td>Post Malone</td>\n",
       "      <td>6394420209</td>\n",
       "    </tr>\n",
       "    <tr>\n",
       "      <th>1390</th>\n",
       "      <td>One Direction</td>\n",
       "      <td>6337601549</td>\n",
       "    </tr>\n",
       "    <tr>\n",
       "      <th>1349</th>\n",
       "      <td>Nicky Jam</td>\n",
       "      <td>6321868119</td>\n",
       "    </tr>\n",
       "  </tbody>\n",
       "</table>\n",
       "</div>"
      ],
      "text/plain": [
       "                       Artist        Views\n",
       "263                Bruno Mars  10231841530\n",
       "1163  Macklemore & Ryan Lewis  10122055560\n",
       "375                  Coldplay   9997277884\n",
       "149                 BLACKPINK   9392961989\n",
       "780                  J Balvin   8464877693\n",
       "1347              Nicki Minaj   8017064073\n",
       "512        Earth, Wind & Fire   6414076580\n",
       "1470              Post Malone   6394420209\n",
       "1390            One Direction   6337601549\n",
       "1349                Nicky Jam   6321868119"
      ]
     },
     "execution_count": 16,
     "metadata": {},
     "output_type": "execute_result"
    }
   ],
   "source": [
    "view=df.groupby('Artist')['Views'].agg('sum').reset_index().sort_values('Views',ascending=False).head(10)\n",
    "view"
   ]
  },
  {
   "cell_type": "code",
   "execution_count": 17,
   "id": "2b87d533",
   "metadata": {},
   "outputs": [
    {
     "data": {
      "text/html": [
       "<div>\n",
       "<style scoped>\n",
       "    .dataframe tbody tr th:only-of-type {\n",
       "        vertical-align: middle;\n",
       "    }\n",
       "\n",
       "    .dataframe tbody tr th {\n",
       "        vertical-align: top;\n",
       "    }\n",
       "\n",
       "    .dataframe thead th {\n",
       "        text-align: right;\n",
       "    }\n",
       "</style>\n",
       "<table border=\"1\" class=\"dataframe\">\n",
       "  <thead>\n",
       "    <tr style=\"text-align: right;\">\n",
       "      <th></th>\n",
       "      <th>Artist</th>\n",
       "      <th>Track</th>\n",
       "      <th>Album</th>\n",
       "      <th>Album_type</th>\n",
       "      <th>Danceability</th>\n",
       "      <th>Energy</th>\n",
       "      <th>Key</th>\n",
       "      <th>Loudness</th>\n",
       "      <th>Speechiness</th>\n",
       "      <th>Acousticness</th>\n",
       "      <th>...</th>\n",
       "      <th>Tempo</th>\n",
       "      <th>Duration_ms</th>\n",
       "      <th>Channel</th>\n",
       "      <th>Views</th>\n",
       "      <th>Likes</th>\n",
       "      <th>Comments</th>\n",
       "      <th>Description</th>\n",
       "      <th>Licensed</th>\n",
       "      <th>official_video</th>\n",
       "      <th>Stream</th>\n",
       "    </tr>\n",
       "  </thead>\n",
       "  <tbody>\n",
       "    <tr>\n",
       "      <th>0</th>\n",
       "      <td>Gorillaz</td>\n",
       "      <td>Feel Good Inc.</td>\n",
       "      <td>Demon Days</td>\n",
       "      <td>album</td>\n",
       "      <td>0.818</td>\n",
       "      <td>0.705</td>\n",
       "      <td>6.0</td>\n",
       "      <td>-6.679</td>\n",
       "      <td>0.1770</td>\n",
       "      <td>0.008360</td>\n",
       "      <td>...</td>\n",
       "      <td>138.559</td>\n",
       "      <td>222640.0</td>\n",
       "      <td>Gorillaz</td>\n",
       "      <td>693555221</td>\n",
       "      <td>6220896</td>\n",
       "      <td>169907</td>\n",
       "      <td>Official HD Video for Gorillaz' fantastic trac...</td>\n",
       "      <td>True</td>\n",
       "      <td>True</td>\n",
       "      <td>1.040235e+09</td>\n",
       "    </tr>\n",
       "    <tr>\n",
       "      <th>1</th>\n",
       "      <td>Gorillaz</td>\n",
       "      <td>Rhinestone Eyes</td>\n",
       "      <td>Plastic Beach</td>\n",
       "      <td>album</td>\n",
       "      <td>0.676</td>\n",
       "      <td>0.703</td>\n",
       "      <td>8.0</td>\n",
       "      <td>-5.815</td>\n",
       "      <td>0.0302</td>\n",
       "      <td>0.086900</td>\n",
       "      <td>...</td>\n",
       "      <td>92.761</td>\n",
       "      <td>200173.0</td>\n",
       "      <td>Gorillaz</td>\n",
       "      <td>72011645</td>\n",
       "      <td>1079128</td>\n",
       "      <td>31003</td>\n",
       "      <td>The official video for Gorillaz - Rhinestone E...</td>\n",
       "      <td>True</td>\n",
       "      <td>True</td>\n",
       "      <td>3.100837e+08</td>\n",
       "    </tr>\n",
       "    <tr>\n",
       "      <th>2</th>\n",
       "      <td>Gorillaz</td>\n",
       "      <td>New Gold (feat. Tame Impala and Bootie Brown)</td>\n",
       "      <td>New Gold (feat. Tame Impala and Bootie Brown)</td>\n",
       "      <td>single</td>\n",
       "      <td>0.695</td>\n",
       "      <td>0.923</td>\n",
       "      <td>1.0</td>\n",
       "      <td>-3.930</td>\n",
       "      <td>0.0522</td>\n",
       "      <td>0.042500</td>\n",
       "      <td>...</td>\n",
       "      <td>108.014</td>\n",
       "      <td>215150.0</td>\n",
       "      <td>Gorillaz</td>\n",
       "      <td>8435055</td>\n",
       "      <td>282142</td>\n",
       "      <td>7399</td>\n",
       "      <td>Gorillaz - New Gold ft. Tame Impala &amp; Bootie B...</td>\n",
       "      <td>True</td>\n",
       "      <td>True</td>\n",
       "      <td>6.306347e+07</td>\n",
       "    </tr>\n",
       "    <tr>\n",
       "      <th>3</th>\n",
       "      <td>Gorillaz</td>\n",
       "      <td>On Melancholy Hill</td>\n",
       "      <td>Plastic Beach</td>\n",
       "      <td>album</td>\n",
       "      <td>0.689</td>\n",
       "      <td>0.739</td>\n",
       "      <td>2.0</td>\n",
       "      <td>-5.810</td>\n",
       "      <td>0.0260</td>\n",
       "      <td>0.000015</td>\n",
       "      <td>...</td>\n",
       "      <td>120.423</td>\n",
       "      <td>233867.0</td>\n",
       "      <td>Gorillaz</td>\n",
       "      <td>211754952</td>\n",
       "      <td>1788577</td>\n",
       "      <td>55229</td>\n",
       "      <td>Follow Gorillaz online:\\nhttp://gorillaz.com \\...</td>\n",
       "      <td>True</td>\n",
       "      <td>True</td>\n",
       "      <td>4.346636e+08</td>\n",
       "    </tr>\n",
       "    <tr>\n",
       "      <th>4</th>\n",
       "      <td>Gorillaz</td>\n",
       "      <td>Clint Eastwood</td>\n",
       "      <td>Gorillaz</td>\n",
       "      <td>album</td>\n",
       "      <td>0.663</td>\n",
       "      <td>0.694</td>\n",
       "      <td>10.0</td>\n",
       "      <td>-8.627</td>\n",
       "      <td>0.1710</td>\n",
       "      <td>0.025300</td>\n",
       "      <td>...</td>\n",
       "      <td>167.953</td>\n",
       "      <td>340920.0</td>\n",
       "      <td>Gorillaz</td>\n",
       "      <td>618480958</td>\n",
       "      <td>6197318</td>\n",
       "      <td>155930</td>\n",
       "      <td>The official music video for Gorillaz - Clint ...</td>\n",
       "      <td>True</td>\n",
       "      <td>True</td>\n",
       "      <td>6.172597e+08</td>\n",
       "    </tr>\n",
       "  </tbody>\n",
       "</table>\n",
       "<p>5 rows × 23 columns</p>\n",
       "</div>"
      ],
      "text/plain": [
       "     Artist                                          Track  \\\n",
       "0  Gorillaz                                 Feel Good Inc.   \n",
       "1  Gorillaz                                Rhinestone Eyes   \n",
       "2  Gorillaz  New Gold (feat. Tame Impala and Bootie Brown)   \n",
       "3  Gorillaz                             On Melancholy Hill   \n",
       "4  Gorillaz                                 Clint Eastwood   \n",
       "\n",
       "                                           Album Album_type  Danceability  \\\n",
       "0                                     Demon Days      album         0.818   \n",
       "1                                  Plastic Beach      album         0.676   \n",
       "2  New Gold (feat. Tame Impala and Bootie Brown)     single         0.695   \n",
       "3                                  Plastic Beach      album         0.689   \n",
       "4                                       Gorillaz      album         0.663   \n",
       "\n",
       "   Energy   Key  Loudness  Speechiness  Acousticness  ...    Tempo  \\\n",
       "0   0.705   6.0    -6.679       0.1770      0.008360  ...  138.559   \n",
       "1   0.703   8.0    -5.815       0.0302      0.086900  ...   92.761   \n",
       "2   0.923   1.0    -3.930       0.0522      0.042500  ...  108.014   \n",
       "3   0.739   2.0    -5.810       0.0260      0.000015  ...  120.423   \n",
       "4   0.694  10.0    -8.627       0.1710      0.025300  ...  167.953   \n",
       "\n",
       "   Duration_ms   Channel      Views    Likes Comments  \\\n",
       "0     222640.0  Gorillaz  693555221  6220896   169907   \n",
       "1     200173.0  Gorillaz   72011645  1079128    31003   \n",
       "2     215150.0  Gorillaz    8435055   282142     7399   \n",
       "3     233867.0  Gorillaz  211754952  1788577    55229   \n",
       "4     340920.0  Gorillaz  618480958  6197318   155930   \n",
       "\n",
       "                                         Description  Licensed  \\\n",
       "0  Official HD Video for Gorillaz' fantastic trac...      True   \n",
       "1  The official video for Gorillaz - Rhinestone E...      True   \n",
       "2  Gorillaz - New Gold ft. Tame Impala & Bootie B...      True   \n",
       "3  Follow Gorillaz online:\\nhttp://gorillaz.com \\...      True   \n",
       "4  The official music video for Gorillaz - Clint ...      True   \n",
       "\n",
       "   official_video        Stream  \n",
       "0            True  1.040235e+09  \n",
       "1            True  3.100837e+08  \n",
       "2            True  6.306347e+07  \n",
       "3            True  4.346636e+08  \n",
       "4            True  6.172597e+08  \n",
       "\n",
       "[5 rows x 23 columns]"
      ]
     },
     "execution_count": 17,
     "metadata": {},
     "output_type": "execute_result"
    }
   ],
   "source": [
    "df.head()"
   ]
  },
  {
   "cell_type": "code",
   "execution_count": 18,
   "id": "bb71614d",
   "metadata": {},
   "outputs": [
    {
     "ename": "KeyboardInterrupt",
     "evalue": "",
     "output_type": "error",
     "traceback": [
      "\u001b[1;31m---------------------------------------------------------------------------\u001b[0m",
      "\u001b[1;31mKeyboardInterrupt\u001b[0m                         Traceback (most recent call last)",
      "Cell \u001b[1;32mIn[18], line 2\u001b[0m\n\u001b[0;32m      1\u001b[0m df\u001b[38;5;241m.\u001b[39mset_index(\u001b[38;5;124m'\u001b[39m\u001b[38;5;124mArtist\u001b[39m\u001b[38;5;124m'\u001b[39m,inplace\u001b[38;5;241m=\u001b[39m\u001b[38;5;28;01mTrue\u001b[39;00m)\n\u001b[1;32m----> 2\u001b[0m \u001b[43mdf\u001b[49m\u001b[38;5;241;43m.\u001b[39;49m\u001b[43mplot\u001b[49m\u001b[43m(\u001b[49m\u001b[43mkind\u001b[49m\u001b[38;5;241;43m=\u001b[39;49m\u001b[38;5;124;43m'\u001b[39;49m\u001b[38;5;124;43mbar\u001b[39;49m\u001b[38;5;124;43m'\u001b[39;49m\u001b[43m,\u001b[49m\u001b[43mcolor\u001b[49m\u001b[38;5;241;43m=\u001b[39;49m\u001b[38;5;124;43m'\u001b[39;49m\u001b[38;5;124;43mg\u001b[39;49m\u001b[38;5;124;43m'\u001b[39;49m\u001b[43m)\u001b[49m\n\u001b[0;32m      3\u001b[0m plt\u001b[38;5;241m.\u001b[39mxlabel(\u001b[38;5;124m'\u001b[39m\u001b[38;5;124mArtist\u001b[39m\u001b[38;5;124m'\u001b[39m)\n\u001b[0;32m      4\u001b[0m plt\u001b[38;5;241m.\u001b[39mylabel(\u001b[38;5;124m'\u001b[39m\u001b[38;5;124mViews\u001b[39m\u001b[38;5;124m'\u001b[39m)\n",
      "File \u001b[1;32m~\\anaconda3\\lib\\site-packages\\pandas\\plotting\\_core.py:1000\u001b[0m, in \u001b[0;36mPlotAccessor.__call__\u001b[1;34m(self, *args, **kwargs)\u001b[0m\n\u001b[0;32m    997\u001b[0m             label_name \u001b[38;5;241m=\u001b[39m label_kw \u001b[38;5;129;01mor\u001b[39;00m data\u001b[38;5;241m.\u001b[39mcolumns\n\u001b[0;32m    998\u001b[0m             data\u001b[38;5;241m.\u001b[39mcolumns \u001b[38;5;241m=\u001b[39m label_name\n\u001b[1;32m-> 1000\u001b[0m \u001b[38;5;28;01mreturn\u001b[39;00m plot_backend\u001b[38;5;241m.\u001b[39mplot(data, kind\u001b[38;5;241m=\u001b[39mkind, \u001b[38;5;241m*\u001b[39m\u001b[38;5;241m*\u001b[39mkwargs)\n",
      "File \u001b[1;32m~\\anaconda3\\lib\\site-packages\\pandas\\plotting\\_matplotlib\\__init__.py:71\u001b[0m, in \u001b[0;36mplot\u001b[1;34m(data, kind, **kwargs)\u001b[0m\n\u001b[0;32m     69\u001b[0m         kwargs[\u001b[38;5;124m\"\u001b[39m\u001b[38;5;124max\u001b[39m\u001b[38;5;124m\"\u001b[39m] \u001b[38;5;241m=\u001b[39m \u001b[38;5;28mgetattr\u001b[39m(ax, \u001b[38;5;124m\"\u001b[39m\u001b[38;5;124mleft_ax\u001b[39m\u001b[38;5;124m\"\u001b[39m, ax)\n\u001b[0;32m     70\u001b[0m plot_obj \u001b[38;5;241m=\u001b[39m PLOT_CLASSES[kind](data, \u001b[38;5;241m*\u001b[39m\u001b[38;5;241m*\u001b[39mkwargs)\n\u001b[1;32m---> 71\u001b[0m \u001b[43mplot_obj\u001b[49m\u001b[38;5;241;43m.\u001b[39;49m\u001b[43mgenerate\u001b[49m\u001b[43m(\u001b[49m\u001b[43m)\u001b[49m\n\u001b[0;32m     72\u001b[0m plot_obj\u001b[38;5;241m.\u001b[39mdraw()\n\u001b[0;32m     73\u001b[0m \u001b[38;5;28;01mreturn\u001b[39;00m plot_obj\u001b[38;5;241m.\u001b[39mresult\n",
      "File \u001b[1;32m~\\anaconda3\\lib\\site-packages\\pandas\\plotting\\_matplotlib\\core.py:452\u001b[0m, in \u001b[0;36mMPLPlot.generate\u001b[1;34m(self)\u001b[0m\n\u001b[0;32m    450\u001b[0m \u001b[38;5;28mself\u001b[39m\u001b[38;5;241m.\u001b[39m_compute_plot_data()\n\u001b[0;32m    451\u001b[0m \u001b[38;5;28mself\u001b[39m\u001b[38;5;241m.\u001b[39m_setup_subplots()\n\u001b[1;32m--> 452\u001b[0m \u001b[38;5;28;43mself\u001b[39;49m\u001b[38;5;241;43m.\u001b[39;49m\u001b[43m_make_plot\u001b[49m\u001b[43m(\u001b[49m\u001b[43m)\u001b[49m\n\u001b[0;32m    453\u001b[0m \u001b[38;5;28mself\u001b[39m\u001b[38;5;241m.\u001b[39m_add_table()\n\u001b[0;32m    454\u001b[0m \u001b[38;5;28mself\u001b[39m\u001b[38;5;241m.\u001b[39m_make_legend()\n",
      "File \u001b[1;32m~\\anaconda3\\lib\\site-packages\\pandas\\plotting\\_matplotlib\\core.py:1721\u001b[0m, in \u001b[0;36mBarPlot._make_plot\u001b[1;34m(self)\u001b[0m\n\u001b[0;32m   1719\u001b[0m \u001b[38;5;28;01melse\u001b[39;00m:\n\u001b[0;32m   1720\u001b[0m     w \u001b[38;5;241m=\u001b[39m \u001b[38;5;28mself\u001b[39m\u001b[38;5;241m.\u001b[39mbar_width \u001b[38;5;241m/\u001b[39m K\n\u001b[1;32m-> 1721\u001b[0m     rect \u001b[38;5;241m=\u001b[39m \u001b[38;5;28mself\u001b[39m\u001b[38;5;241m.\u001b[39m_plot(\n\u001b[0;32m   1722\u001b[0m         ax,\n\u001b[0;32m   1723\u001b[0m         \u001b[38;5;28mself\u001b[39m\u001b[38;5;241m.\u001b[39max_pos \u001b[38;5;241m+\u001b[39m (i \u001b[38;5;241m+\u001b[39m \u001b[38;5;241m0.5\u001b[39m) \u001b[38;5;241m*\u001b[39m w,\n\u001b[0;32m   1724\u001b[0m         y,\n\u001b[0;32m   1725\u001b[0m         w,\n\u001b[0;32m   1726\u001b[0m         start\u001b[38;5;241m=\u001b[39mstart,\n\u001b[0;32m   1727\u001b[0m         label\u001b[38;5;241m=\u001b[39mlabel,\n\u001b[0;32m   1728\u001b[0m         log\u001b[38;5;241m=\u001b[39m\u001b[38;5;28mself\u001b[39m\u001b[38;5;241m.\u001b[39mlog,\n\u001b[0;32m   1729\u001b[0m         \u001b[38;5;241m*\u001b[39m\u001b[38;5;241m*\u001b[39mkwds,\n\u001b[0;32m   1730\u001b[0m     )\n\u001b[0;32m   1731\u001b[0m \u001b[38;5;28mself\u001b[39m\u001b[38;5;241m.\u001b[39m_append_legend_handles_labels(rect, label)\n",
      "File \u001b[1;32m~\\anaconda3\\lib\\site-packages\\pandas\\plotting\\_matplotlib\\core.py:1651\u001b[0m, in \u001b[0;36mBarPlot._plot\u001b[1;34m(cls, ax, x, y, w, start, log, **kwds)\u001b[0m\n\u001b[0;32m   1647\u001b[0m \u001b[38;5;129m@classmethod\u001b[39m\n\u001b[0;32m   1648\u001b[0m \u001b[38;5;28;01mdef\u001b[39;00m \u001b[38;5;21m_plot\u001b[39m(  \u001b[38;5;66;03m# type: ignore[override]\u001b[39;00m\n\u001b[0;32m   1649\u001b[0m     \u001b[38;5;28mcls\u001b[39m, ax: Axes, x, y, w, start\u001b[38;5;241m=\u001b[39m\u001b[38;5;241m0\u001b[39m, log\u001b[38;5;241m=\u001b[39m\u001b[38;5;28;01mFalse\u001b[39;00m, \u001b[38;5;241m*\u001b[39m\u001b[38;5;241m*\u001b[39mkwds\n\u001b[0;32m   1650\u001b[0m ):\n\u001b[1;32m-> 1651\u001b[0m     \u001b[38;5;28;01mreturn\u001b[39;00m ax\u001b[38;5;241m.\u001b[39mbar(x, y, w, bottom\u001b[38;5;241m=\u001b[39mstart, log\u001b[38;5;241m=\u001b[39mlog, \u001b[38;5;241m*\u001b[39m\u001b[38;5;241m*\u001b[39mkwds)\n",
      "File \u001b[1;32m~\\anaconda3\\lib\\site-packages\\matplotlib\\__init__.py:1442\u001b[0m, in \u001b[0;36m_preprocess_data.<locals>.inner\u001b[1;34m(ax, data, *args, **kwargs)\u001b[0m\n\u001b[0;32m   1439\u001b[0m \u001b[38;5;129m@functools\u001b[39m\u001b[38;5;241m.\u001b[39mwraps(func)\n\u001b[0;32m   1440\u001b[0m \u001b[38;5;28;01mdef\u001b[39;00m \u001b[38;5;21minner\u001b[39m(ax, \u001b[38;5;241m*\u001b[39margs, data\u001b[38;5;241m=\u001b[39m\u001b[38;5;28;01mNone\u001b[39;00m, \u001b[38;5;241m*\u001b[39m\u001b[38;5;241m*\u001b[39mkwargs):\n\u001b[0;32m   1441\u001b[0m     \u001b[38;5;28;01mif\u001b[39;00m data \u001b[38;5;129;01mis\u001b[39;00m \u001b[38;5;28;01mNone\u001b[39;00m:\n\u001b[1;32m-> 1442\u001b[0m         \u001b[38;5;28;01mreturn\u001b[39;00m func(ax, \u001b[38;5;241m*\u001b[39m\u001b[38;5;28mmap\u001b[39m(sanitize_sequence, args), \u001b[38;5;241m*\u001b[39m\u001b[38;5;241m*\u001b[39mkwargs)\n\u001b[0;32m   1444\u001b[0m     bound \u001b[38;5;241m=\u001b[39m new_sig\u001b[38;5;241m.\u001b[39mbind(ax, \u001b[38;5;241m*\u001b[39margs, \u001b[38;5;241m*\u001b[39m\u001b[38;5;241m*\u001b[39mkwargs)\n\u001b[0;32m   1445\u001b[0m     auto_label \u001b[38;5;241m=\u001b[39m (bound\u001b[38;5;241m.\u001b[39marguments\u001b[38;5;241m.\u001b[39mget(label_namer)\n\u001b[0;32m   1446\u001b[0m                   \u001b[38;5;129;01mor\u001b[39;00m bound\u001b[38;5;241m.\u001b[39mkwargs\u001b[38;5;241m.\u001b[39mget(label_namer))\n",
      "File \u001b[1;32m~\\anaconda3\\lib\\site-packages\\matplotlib\\axes\\_axes.py:2494\u001b[0m, in \u001b[0;36mAxes.bar\u001b[1;34m(self, x, height, width, bottom, align, **kwargs)\u001b[0m\n\u001b[0;32m   2492\u001b[0m     \u001b[38;5;28;01melse\u001b[39;00m:  \u001b[38;5;66;03m# horizontal\u001b[39;00m\n\u001b[0;32m   2493\u001b[0m         r\u001b[38;5;241m.\u001b[39msticky_edges\u001b[38;5;241m.\u001b[39mx\u001b[38;5;241m.\u001b[39mappend(l)\n\u001b[1;32m-> 2494\u001b[0m     \u001b[38;5;28;43mself\u001b[39;49m\u001b[38;5;241;43m.\u001b[39;49m\u001b[43madd_patch\u001b[49m\u001b[43m(\u001b[49m\u001b[43mr\u001b[49m\u001b[43m)\u001b[49m\n\u001b[0;32m   2495\u001b[0m     patches\u001b[38;5;241m.\u001b[39mappend(r)\n\u001b[0;32m   2497\u001b[0m \u001b[38;5;28;01mif\u001b[39;00m xerr \u001b[38;5;129;01mis\u001b[39;00m \u001b[38;5;129;01mnot\u001b[39;00m \u001b[38;5;28;01mNone\u001b[39;00m \u001b[38;5;129;01mor\u001b[39;00m yerr \u001b[38;5;129;01mis\u001b[39;00m \u001b[38;5;129;01mnot\u001b[39;00m \u001b[38;5;28;01mNone\u001b[39;00m:\n",
      "File \u001b[1;32m~\\anaconda3\\lib\\site-packages\\matplotlib\\axes\\_base.py:2379\u001b[0m, in \u001b[0;36m_AxesBase.add_patch\u001b[1;34m(self, p)\u001b[0m\n\u001b[0;32m   2377\u001b[0m \u001b[38;5;28;01mif\u001b[39;00m p\u001b[38;5;241m.\u001b[39mget_clip_path() \u001b[38;5;129;01mis\u001b[39;00m \u001b[38;5;28;01mNone\u001b[39;00m:\n\u001b[0;32m   2378\u001b[0m     p\u001b[38;5;241m.\u001b[39mset_clip_path(\u001b[38;5;28mself\u001b[39m\u001b[38;5;241m.\u001b[39mpatch)\n\u001b[1;32m-> 2379\u001b[0m \u001b[38;5;28;43mself\u001b[39;49m\u001b[38;5;241;43m.\u001b[39;49m\u001b[43m_update_patch_limits\u001b[49m\u001b[43m(\u001b[49m\u001b[43mp\u001b[49m\u001b[43m)\u001b[49m\n\u001b[0;32m   2380\u001b[0m \u001b[38;5;28mself\u001b[39m\u001b[38;5;241m.\u001b[39m_children\u001b[38;5;241m.\u001b[39mappend(p)\n\u001b[0;32m   2381\u001b[0m p\u001b[38;5;241m.\u001b[39m_remove_method \u001b[38;5;241m=\u001b[39m \u001b[38;5;28mself\u001b[39m\u001b[38;5;241m.\u001b[39m_children\u001b[38;5;241m.\u001b[39mremove\n",
      "File \u001b[1;32m~\\anaconda3\\lib\\site-packages\\matplotlib\\axes\\_base.py:2401\u001b[0m, in \u001b[0;36m_AxesBase._update_patch_limits\u001b[1;34m(self, patch)\u001b[0m\n\u001b[0;32m   2398\u001b[0m \u001b[38;5;66;03m# Get all vertices on the path\u001b[39;00m\n\u001b[0;32m   2399\u001b[0m \u001b[38;5;66;03m# Loop through each segment to get extrema for Bezier curve sections\u001b[39;00m\n\u001b[0;32m   2400\u001b[0m vertices \u001b[38;5;241m=\u001b[39m []\n\u001b[1;32m-> 2401\u001b[0m \u001b[38;5;28;01mfor\u001b[39;00m curve, code \u001b[38;5;129;01min\u001b[39;00m p\u001b[38;5;241m.\u001b[39miter_bezier(simplify\u001b[38;5;241m=\u001b[39m\u001b[38;5;28;01mFalse\u001b[39;00m):\n\u001b[0;32m   2402\u001b[0m     \u001b[38;5;66;03m# Get distance along the curve of any extrema\u001b[39;00m\n\u001b[0;32m   2403\u001b[0m     _, dzeros \u001b[38;5;241m=\u001b[39m curve\u001b[38;5;241m.\u001b[39maxis_aligned_extrema()\n\u001b[0;32m   2404\u001b[0m     \u001b[38;5;66;03m# Calculate vertices of start, end and any extrema in between\u001b[39;00m\n",
      "File \u001b[1;32m~\\anaconda3\\lib\\site-packages\\matplotlib\\path.py:443\u001b[0m, in \u001b[0;36mPath.iter_bezier\u001b[1;34m(self, **kwargs)\u001b[0m\n\u001b[0;32m    441\u001b[0m first_vert \u001b[38;5;241m=\u001b[39m \u001b[38;5;28;01mNone\u001b[39;00m\n\u001b[0;32m    442\u001b[0m prev_vert \u001b[38;5;241m=\u001b[39m \u001b[38;5;28;01mNone\u001b[39;00m\n\u001b[1;32m--> 443\u001b[0m \u001b[38;5;28;01mfor\u001b[39;00m verts, code \u001b[38;5;129;01min\u001b[39;00m \u001b[38;5;28mself\u001b[39m\u001b[38;5;241m.\u001b[39miter_segments(\u001b[38;5;241m*\u001b[39m\u001b[38;5;241m*\u001b[39mkwargs):\n\u001b[0;32m    444\u001b[0m     \u001b[38;5;28;01mif\u001b[39;00m first_vert \u001b[38;5;129;01mis\u001b[39;00m \u001b[38;5;28;01mNone\u001b[39;00m:\n\u001b[0;32m    445\u001b[0m         \u001b[38;5;28;01mif\u001b[39;00m code \u001b[38;5;241m!=\u001b[39m Path\u001b[38;5;241m.\u001b[39mMOVETO:\n",
      "File \u001b[1;32m~\\anaconda3\\lib\\site-packages\\matplotlib\\path.py:397\u001b[0m, in \u001b[0;36mPath.iter_segments\u001b[1;34m(self, transform, remove_nans, clip, snap, stroke_width, simplify, curves, sketch)\u001b[0m\n\u001b[0;32m    394\u001b[0m \u001b[38;5;28;01mif\u001b[39;00m \u001b[38;5;129;01mnot\u001b[39;00m \u001b[38;5;28mlen\u001b[39m(\u001b[38;5;28mself\u001b[39m):\n\u001b[0;32m    395\u001b[0m     \u001b[38;5;28;01mreturn\u001b[39;00m\n\u001b[1;32m--> 397\u001b[0m cleaned \u001b[38;5;241m=\u001b[39m \u001b[38;5;28;43mself\u001b[39;49m\u001b[38;5;241;43m.\u001b[39;49m\u001b[43mcleaned\u001b[49m\u001b[43m(\u001b[49m\u001b[43mtransform\u001b[49m\u001b[38;5;241;43m=\u001b[39;49m\u001b[43mtransform\u001b[49m\u001b[43m,\u001b[49m\n\u001b[0;32m    398\u001b[0m \u001b[43m                       \u001b[49m\u001b[43mremove_nans\u001b[49m\u001b[38;5;241;43m=\u001b[39;49m\u001b[43mremove_nans\u001b[49m\u001b[43m,\u001b[49m\u001b[43m \u001b[49m\u001b[43mclip\u001b[49m\u001b[38;5;241;43m=\u001b[39;49m\u001b[43mclip\u001b[49m\u001b[43m,\u001b[49m\n\u001b[0;32m    399\u001b[0m \u001b[43m                       \u001b[49m\u001b[43msnap\u001b[49m\u001b[38;5;241;43m=\u001b[39;49m\u001b[43msnap\u001b[49m\u001b[43m,\u001b[49m\u001b[43m \u001b[49m\u001b[43mstroke_width\u001b[49m\u001b[38;5;241;43m=\u001b[39;49m\u001b[43mstroke_width\u001b[49m\u001b[43m,\u001b[49m\n\u001b[0;32m    400\u001b[0m \u001b[43m                       \u001b[49m\u001b[43msimplify\u001b[49m\u001b[38;5;241;43m=\u001b[39;49m\u001b[43msimplify\u001b[49m\u001b[43m,\u001b[49m\u001b[43m \u001b[49m\u001b[43mcurves\u001b[49m\u001b[38;5;241;43m=\u001b[39;49m\u001b[43mcurves\u001b[49m\u001b[43m,\u001b[49m\n\u001b[0;32m    401\u001b[0m \u001b[43m                       \u001b[49m\u001b[43msketch\u001b[49m\u001b[38;5;241;43m=\u001b[39;49m\u001b[43msketch\u001b[49m\u001b[43m)\u001b[49m\n\u001b[0;32m    403\u001b[0m \u001b[38;5;66;03m# Cache these object lookups for performance in the loop.\u001b[39;00m\n\u001b[0;32m    404\u001b[0m NUM_VERTICES_FOR_CODE \u001b[38;5;241m=\u001b[39m \u001b[38;5;28mself\u001b[39m\u001b[38;5;241m.\u001b[39mNUM_VERTICES_FOR_CODE\n",
      "File \u001b[1;32m~\\anaconda3\\lib\\site-packages\\matplotlib\\path.py:477\u001b[0m, in \u001b[0;36mPath.cleaned\u001b[1;34m(self, transform, remove_nans, clip, simplify, curves, stroke_width, snap, sketch)\u001b[0m\n\u001b[0;32m    466\u001b[0m \u001b[38;5;28;01mdef\u001b[39;00m \u001b[38;5;21mcleaned\u001b[39m(\u001b[38;5;28mself\u001b[39m, transform\u001b[38;5;241m=\u001b[39m\u001b[38;5;28;01mNone\u001b[39;00m, remove_nans\u001b[38;5;241m=\u001b[39m\u001b[38;5;28;01mFalse\u001b[39;00m, clip\u001b[38;5;241m=\u001b[39m\u001b[38;5;28;01mNone\u001b[39;00m,\n\u001b[0;32m    467\u001b[0m             \u001b[38;5;241m*\u001b[39m, simplify\u001b[38;5;241m=\u001b[39m\u001b[38;5;28;01mFalse\u001b[39;00m, curves\u001b[38;5;241m=\u001b[39m\u001b[38;5;28;01mFalse\u001b[39;00m,\n\u001b[0;32m    468\u001b[0m             stroke_width\u001b[38;5;241m=\u001b[39m\u001b[38;5;241m1.0\u001b[39m, snap\u001b[38;5;241m=\u001b[39m\u001b[38;5;28;01mFalse\u001b[39;00m, sketch\u001b[38;5;241m=\u001b[39m\u001b[38;5;28;01mNone\u001b[39;00m):\n\u001b[0;32m    469\u001b[0m     \u001b[38;5;124;03m\"\"\"\u001b[39;00m\n\u001b[0;32m    470\u001b[0m \u001b[38;5;124;03m    Return a new Path with vertices and codes cleaned according to the\u001b[39;00m\n\u001b[0;32m    471\u001b[0m \u001b[38;5;124;03m    parameters.\u001b[39;00m\n\u001b[1;32m   (...)\u001b[0m\n\u001b[0;32m    475\u001b[0m \u001b[38;5;124;03m    Path.iter_segments : for details of the keyword arguments.\u001b[39;00m\n\u001b[0;32m    476\u001b[0m \u001b[38;5;124;03m    \"\"\"\u001b[39;00m\n\u001b[1;32m--> 477\u001b[0m     vertices, codes \u001b[38;5;241m=\u001b[39m \u001b[43m_path\u001b[49m\u001b[38;5;241;43m.\u001b[39;49m\u001b[43mcleanup_path\u001b[49m\u001b[43m(\u001b[49m\n\u001b[0;32m    478\u001b[0m \u001b[43m        \u001b[49m\u001b[38;5;28;43mself\u001b[39;49m\u001b[43m,\u001b[49m\u001b[43m \u001b[49m\u001b[43mtransform\u001b[49m\u001b[43m,\u001b[49m\u001b[43m \u001b[49m\u001b[43mremove_nans\u001b[49m\u001b[43m,\u001b[49m\u001b[43m \u001b[49m\u001b[43mclip\u001b[49m\u001b[43m,\u001b[49m\u001b[43m \u001b[49m\u001b[43msnap\u001b[49m\u001b[43m,\u001b[49m\u001b[43m \u001b[49m\u001b[43mstroke_width\u001b[49m\u001b[43m,\u001b[49m\u001b[43m \u001b[49m\u001b[43msimplify\u001b[49m\u001b[43m,\u001b[49m\n\u001b[0;32m    479\u001b[0m \u001b[43m        \u001b[49m\u001b[43mcurves\u001b[49m\u001b[43m,\u001b[49m\u001b[43m \u001b[49m\u001b[43msketch\u001b[49m\u001b[43m)\u001b[49m\n\u001b[0;32m    480\u001b[0m     pth \u001b[38;5;241m=\u001b[39m Path\u001b[38;5;241m.\u001b[39m_fast_from_codes_and_verts(vertices, codes, \u001b[38;5;28mself\u001b[39m)\n\u001b[0;32m    481\u001b[0m     \u001b[38;5;28;01mif\u001b[39;00m \u001b[38;5;129;01mnot\u001b[39;00m simplify:\n",
      "\u001b[1;31mKeyboardInterrupt\u001b[0m: "
     ]
    },
    {
     "data": {
      "image/png": "[encoded data removed]",
      "text/plain": [
       "<Figure size 640x480 with 1 Axes>"
      ]
     },
     "metadata": {},
     "output_type": "display_data"
    }
   ],
   "source": [
    "df.set_index('Artist',inplace=True)\n",
    "df.plot(kind='bar',color='g')\n",
    "plt.xlabel('Artist')\n",
    "plt.ylabel('Views')\n",
    "plt.title('Top 10 Artist with higher views')\n",
    "plt.xticks(rotation=70)\n",
    "plt.show()\n"
   ]
  },
  {
   "cell_type": "code",
   "execution_count": null,
   "id": "b4b952be",
   "metadata": {},
   "outputs": [],
   "source": [
    "df.groupby('Artist')['Likes'].agg('sum').sort_values(ascending=False).head(10)"
   ]
  },
  {
   "cell_type": "code",
   "execution_count": null,
   "id": "015f0024",
   "metadata": {},
   "outputs": [],
   "source": [
    "#make graph of the top 10 most liked artists in Youtube, bar chart\n",
    "ax=df.groupby('Artist').agg({'Likes':'sum','Stream':'sum'}).reset_index()\n",
    "bx=ax.sort_values('Likes',ascending=False).head(10)\n",
    "sns.barplot(data=bx,x='Likes',y='Artist')\n",
    "plt.title('Top 10 most Liked Artist ')\n",
    "plt.show()"
   ]
  },
  {
   "cell_type": "markdown",
   "id": "aa429715",
   "metadata": {},
   "source": [
    "# Determine the top 10 Streamers on spotify"
   ]
  },
  {
   "cell_type": "code",
   "execution_count": null,
   "id": "425fc3e0",
   "metadata": {},
   "outputs": [],
   "source": [
    "cx=ax.sort_values('Stream',ascending=False).head(10)"
   ]
  },
  {
   "cell_type": "code",
   "execution_count": null,
   "id": "e767d53d",
   "metadata": {},
   "outputs": [],
   "source": [
    "cx=ax.sort_values('Stream',ascending=False).head(10)"
   ]
  },
  {
   "cell_type": "code",
   "execution_count": null,
   "id": "e94afb99",
   "metadata": {},
   "outputs": [],
   "source": [
    "df.groupby('Artist')['Stream'].agg('sum').head(10)"
   ]
  },
  {
   "cell_type": "code",
   "execution_count": null,
   "id": "e28fc3ca",
   "metadata": {},
   "outputs": [],
   "source": [
    "sns.barplot(data=cx,y='Stream',x='Artist')\n",
    "plt.xticks(rotation=80)\n",
    "plt.title('Top 10 streamers')\n",
    "plt.show()"
   ]
  },
  {
   "cell_type": "markdown",
   "id": "32a094cd",
   "metadata": {},
   "source": [
    "# who is the most commented artist on youtube"
   ]
  },
  {
   "cell_type": "code",
   "execution_count": null,
   "id": "838f0ed1",
   "metadata": {},
   "outputs": [],
   "source": [
    "ax=df.groupby('Artist')['Comments'].sum().reset_index().sort_values(by='Comments',ascending=False).head(10)\n",
    "ax"
   ]
  },
  {
   "cell_type": "code",
   "execution_count": null,
   "id": "4b56106e",
   "metadata": {},
   "outputs": [],
   "source": [
    "tc=df.groupby('Track').agg({'Views':'sum','Comments':'sum','Likes':'sum'}).reset_index()\n",
    "bv=tc.sort_values('Views',ascending=False).head(10)\n",
    "bv"
   ]
  },
  {
   "cell_type": "code",
   "execution_count": null,
   "id": "9e6eded9",
   "metadata": {},
   "outputs": [],
   "source": [
    "plt.barh(bv['Track'],bv['Views'],color='b')\n",
    "plt.title('Top 10 most Viewed tracks')\n",
    "plt.show()"
   ]
  },
  {
   "cell_type": "markdown",
   "id": "5e29d360",
   "metadata": {},
   "source": [
    "# determine most commented song on youtube"
   ]
  },
  {
   "cell_type": "code",
   "execution_count": null,
   "id": "503adcb2",
   "metadata": {},
   "outputs": [],
   "source": [
    "av=tc.sort_values('Comments',ascending=False).head(10)\n",
    "av"
   ]
  },
  {
   "cell_type": "code",
   "execution_count": null,
   "id": "acc0d51c",
   "metadata": {},
   "outputs": [],
   "source": [
    "plt.barh(av['Track'],av['Comments'])\n",
    "plt.title('Top 10 most commented Tracks')\n",
    "plt.show()\n"
   ]
  },
  {
   "cell_type": "markdown",
   "id": "f0e974fd",
   "metadata": {},
   "source": [
    "# most liked song on youtube or spotify"
   ]
  },
  {
   "cell_type": "code",
   "execution_count": null,
   "id": "ff33fdff",
   "metadata": {},
   "outputs": [],
   "source": [
    "sn=tc.sort_values('Likes',ascending=False).head(10)\n",
    "sn"
   ]
  },
  {
   "cell_type": "code",
   "execution_count": null,
   "id": "e4bd6887",
   "metadata": {},
   "outputs": [],
   "source": [
    "plt.barh(sn['Track'],sn['Likes'],color='r')\n",
    "plt.title('Top 10 most Liked tracks')\n",
    "plt.show()"
   ]
  },
  {
   "cell_type": "markdown",
   "id": "197558cf",
   "metadata": {},
   "source": [
    "# most viewed song relatiship with stream"
   ]
  },
  {
   "cell_type": "code",
   "execution_count": null,
   "id": "fe3a6b35",
   "metadata": {},
   "outputs": [],
   "source": [
    "df.groupby('Track').agg({'Views':'sum','Stream':'sum'}).reset_index().sort_values(by='Views' ,ascending=False).head(10)\n"
   ]
  },
  {
   "cell_type": "markdown",
   "id": "864ecaea",
   "metadata": {},
   "source": [
    "# which is the most viewed album type on youtube"
   ]
  },
  {
   "cell_type": "code",
   "execution_count": null,
   "id": "2d9b6b49",
   "metadata": {},
   "outputs": [],
   "source": [
    "ac=df.groupby(['Album_type'])['Views'].sum().head()\n",
    "ac"
   ]
  },
  {
   "cell_type": "markdown",
   "id": "f56d74d0",
   "metadata": {},
   "source": [
    "# which album type is getting more views"
   ]
  },
  {
   "cell_type": "code",
   "execution_count": null,
   "id": "9cf30f88",
   "metadata": {},
   "outputs": [],
   "source": [
    "gp=df.groupby('Album_type')['Views'].sum().reset_index()\n",
    "sns.set(style=\"whitegrid\")\n",
    "plt.pie(data=gp,x='Views',labels='Album_type',autopct='%1.0f%%')\n",
    "plt.title('Album Views by Types')\n",
    "plt.show()"
   ]
  },
  {
   "cell_type": "markdown",
   "id": "163c2fe8",
   "metadata": {},
   "source": [
    "# Top 10 licensed album on youtube & spotify\n"
   ]
  },
  {
   "cell_type": "code",
   "execution_count": null,
   "id": "916b5dfa",
   "metadata": {},
   "outputs": [],
   "source": [
    "al=df[df['Licensed']==1]\n",
    "la=al['Album'].value_counts()[:10]\n",
    "plt.pie(la,autopct='%.2f%%',labels=la.index)\n",
    "plt.show()"
   ]
  },
  {
   "cell_type": "code",
   "execution_count": null,
   "id": "32e7ed62",
   "metadata": {},
   "outputs": [],
   "source": []
  }
 ],
 "metadata": {
  "kernelspec": {
   "display_name": "Python 3 (ipykernel)",
   "language": "python",
   "name": "python3"
  },
  "language_info": {
   "codemirror_mode": {
    "name": "ipython",
    "version": 3
   },
   "file_extension": ".py",
   "mimetype": "text/x-python",
   "name": "python",
   "nbconvert_exporter": "python",
   "pygments_lexer": "ipython3",
   "version": "3.10.9"
  }
 },
 "nbformat": 4,
 "nbformat_minor": 5
}
